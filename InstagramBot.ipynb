{
 "metadata": {
  "language_info": {
   "codemirror_mode": {
    "name": "ipython",
    "version": 3
   },
   "file_extension": ".py",
   "mimetype": "text/x-python",
   "name": "python",
   "nbconvert_exporter": "python",
   "pygments_lexer": "ipython3",
   "version": "3.9.4"
  },
  "orig_nbformat": 2,
  "kernelspec": {
   "name": "python394jvsc74a57bd033dc6d49505b4536b6a128d9d7c879e1fa44477ad44947bbbe73093067fe6393",
   "display_name": "Python 3.9.4 64-bit"
  },
  "metadata": {
   "interpreter": {
    "hash": "33dc6d49505b4536b6a128d9d7c879e1fa44477ad44947bbbe73093067fe6393"
   }
  }
 },
 "nbformat": 4,
 "nbformat_minor": 2,
 "cells": [
  {
   "cell_type": "code",
   "execution_count": 41,
   "metadata": {},
   "outputs": [],
   "source": [
    "pw = '......'\n",
    "us = \".......\"\n",
    "\n",
    "\n",
    "\n",
    "\n",
    "\n",
    "\n",
    "\n",
    "\n",
    "from selenium import webdriver\n",
    "from time import sleep\n",
    "import random\n"
   ]
  },
  {
   "cell_type": "code",
   "execution_count": 42,
   "metadata": {},
   "outputs": [],
   "source": [
    "class InstaBot:\n",
    "    \n",
    "    links = []    \n",
    "    comments = [\"Awesome!\", \"Great! post\", \"Nice\", \"wow!!!\", \"Good\"]\n",
    "    ## method to load the initial webpage (instagram home page).\n",
    "    def __init__(self, pw, us):\n",
    "        self.driver = webdriver.Chrome()\n",
    "        self.username = us\n",
    "        self.driver.get(\"https://instagram.com\")\n",
    "        sleep(2)\n",
    "        self.driver.find_element_by_xpath(\"//input[@name = \\\"username\\\"]\").send_keys(us)\n",
    "        self.driver.find_element_by_xpath(\"//input[@name = \\\"password\\\"]\").send_keys(pw)\n",
    "        self.driver.find_element_by_xpath(\"/html/body/div[1]/section/main/article/div[2]/div[1]/div/form/div/div[3]\").click()\n",
    "        sleep(5)\n",
    "        self.driver.find_element_by_xpath(\"/html/body/div[1]/section/main/div/div/div/div/button\").click()\n",
    "        sleep(3)\n",
    "        self.driver.find_element_by_xpath(\"/html/body/div[4]/div/div/div/div[3]/button[2]\").click()\n",
    "        return\n",
    "\n",
    "   \n",
    "   ## method to like comment on posts through hashtags.\n",
    "    def like_comment_by_hashtag(self, hashtag):\n",
    "        self.driver.get(\"https://www.instagram.com/explore/tags/{}/\".format(hashtag))\n",
    "        links = self.driver.find_elements_by_tag_name(\"a\")\n",
    "        \n",
    "        def condition(link):\n",
    "            return \".com/p/\" in link.get_attribute('href')\n",
    "        filtered_links = list(filter(condition,links))\n",
    "\n",
    "        for i in range(12):\n",
    "            link = filtered_links[i].get_attribute('href')\n",
    "            if link not in self.links:\n",
    "                self.links.append(link)\n",
    "        \n",
    "        for link in self.links:\n",
    "            self.driver.get(link)\n",
    "            #like and comment\n",
    "            sleep(3)\n",
    "            self.driver.find_element_by_class_name(\"RxpZH\").click()\n",
    "            sleep(1)\n",
    "            self.driver.find_element_by_xpath(\"/html/body/div[1]/section/main/div/div[1]/article/div[3]/section[3]/div/form/textarea\").send_keys(self.comments[random.randint(0,4)])      \n",
    "            self.driver.find_element_by_xpath(\"/html/body/div[1]/section/main/div/div[1]/article/div[3]/section[3]/div/form/button[2]\").click()\n",
    "   \n",
    "\n",
    "obj = InstaBot(pw, us)\n",
    "hashtag = \"programming\"\n",
    "obj.like_comment_by_hashtag(hashtag)\n"
   ]
  }
 ]
}
